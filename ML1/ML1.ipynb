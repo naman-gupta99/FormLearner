{
 "cells": [
  {
   "cell_type": "code",
   "execution_count": 98,
   "metadata": {},
   "outputs": [
    {
     "name": "stdout",
     "output_type": "stream",
     "text": [
      "   Timestamp\n",
      "0    33245.0\n",
      "1        0.0\n",
      "2       53.0\n",
      "3       70.0\n",
      "4      146.0\n",
      "   Roll No.\n",
      "0  51810062\n",
      "1  11812048\n",
      "2  11710131\n",
      "3  11812046\n",
      "4  11710758\n",
      "[51810062. 11812048. 11710131. 11812046. 11710758.]\n"
     ]
    }
   ],
   "source": [
    "import pandas as pd\n",
    "import datetime\n",
    "from sklearn.tree import DecisionTreeRegressor\n",
    "\n",
    "#strgen() definition\n",
    "def strgen (a):\n",
    "    b = a.split()\n",
    "    c = b[0] + \" \" + b[1]\n",
    "    d = datetime.datetime.strptime(c, '%Y/%m/%d %H:%M:%S').timestamp()\n",
    "    return d - 1544736926\n",
    "\n",
    "#Data source path\n",
    "datafile_src = \"./data.csv\"\n",
    "#DataFrame creation\n",
    "data = pd.read_csv(datafile_src)\n",
    "#Prediction Target\n",
    "yi = [{\"Roll No.\" : r} for r in data['Roll No.']];\n",
    "y = pd.DataFrame.from_dict(yi)\n",
    "#Prediction Features\n",
    "xi = [{\"Timestamp\" : strgen(t)} for t in data['Timestamp']]\n",
    "x = pd.DataFrame.from_dict(xi)\n",
    "\n",
    "#Prediction Model Definition\n",
    "data_model = DecisionTreeRegressor(random_state=1)\n",
    "\n",
    "#Fit model\n",
    "data_model.fit(x, y)\n",
    "\n",
    "print(x.head())\n",
    "print(y.head())\n",
    "print(data_model.predict(x.head()))"
   ]
  }
 ],
 "metadata": {
  "kernelspec": {
   "display_name": "Python 3",
   "language": "python",
   "name": "python3"
  },
  "language_info": {
   "codemirror_mode": {
    "name": "ipython",
    "version": 3
   },
   "file_extension": ".py",
   "mimetype": "text/x-python",
   "name": "python",
   "nbconvert_exporter": "python",
   "pygments_lexer": "ipython3",
   "version": "3.7.1"
  }
 },
 "nbformat": 4,
 "nbformat_minor": 2
}
